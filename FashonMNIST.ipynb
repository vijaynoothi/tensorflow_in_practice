{
  "nbformat": 4,
  "nbformat_minor": 0,
  "metadata": {
    "colab": {
      "name": "FashonMNIST",
      "provenance": [],
      "authorship_tag": "ABX9TyPjEEj2AzJ0lj8lNwfJcjkX",
      "include_colab_link": true
    },
    "kernelspec": {
      "name": "python3",
      "display_name": "Python 3"
    }
  },
  "cells": [
    {
      "cell_type": "markdown",
      "metadata": {
        "id": "view-in-github",
        "colab_type": "text"
      },
      "source": [
        "<a href=\"https://colab.research.google.com/github/vijaynoothi/tensorflow_in_practice/blob/master/FashonMNIST.ipynb\" target=\"_parent\"><img src=\"https://colab.research.google.com/assets/colab-badge.svg\" alt=\"Open In Colab\"/></a>"
      ]
    },
    {
      "cell_type": "code",
      "metadata": {
        "id": "IXiiU4xTEJy1",
        "colab_type": "code",
        "colab": {}
      },
      "source": [
        "#!pip install tensorflow==2.0.0-alpha0"
      ],
      "execution_count": 0,
      "outputs": []
    },
    {
      "cell_type": "code",
      "metadata": {
        "id": "_q9ENZjoElMB",
        "colab_type": "code",
        "colab": {
          "base_uri": "https://localhost:8080/",
          "height": 445
        },
        "outputId": "8d04a352-ae2a-48a5-eb14-5e19307bf2eb"
      },
      "source": [
        "import tensorflow as tf\n",
        "from tensorflow import keras\n",
        "\n",
        "import numpy as np\n",
        "import matplotlib.pyplot as plt"
      ],
      "execution_count": 2,
      "outputs": [
        {
          "output_type": "stream",
          "text": [
            "/usr/local/lib/python3.6/dist-packages/tensorflow/python/framework/dtypes.py:523: FutureWarning: Passing (type, 1) or '1type' as a synonym of type is deprecated; in a future version of numpy, it will be understood as (type, (1,)) / '(1,)type'.\n",
            "  _np_qint8 = np.dtype([(\"qint8\", np.int8, 1)])\n",
            "/usr/local/lib/python3.6/dist-packages/tensorflow/python/framework/dtypes.py:524: FutureWarning: Passing (type, 1) or '1type' as a synonym of type is deprecated; in a future version of numpy, it will be understood as (type, (1,)) / '(1,)type'.\n",
            "  _np_quint8 = np.dtype([(\"quint8\", np.uint8, 1)])\n",
            "/usr/local/lib/python3.6/dist-packages/tensorflow/python/framework/dtypes.py:525: FutureWarning: Passing (type, 1) or '1type' as a synonym of type is deprecated; in a future version of numpy, it will be understood as (type, (1,)) / '(1,)type'.\n",
            "  _np_qint16 = np.dtype([(\"qint16\", np.int16, 1)])\n",
            "/usr/local/lib/python3.6/dist-packages/tensorflow/python/framework/dtypes.py:526: FutureWarning: Passing (type, 1) or '1type' as a synonym of type is deprecated; in a future version of numpy, it will be understood as (type, (1,)) / '(1,)type'.\n",
            "  _np_quint16 = np.dtype([(\"quint16\", np.uint16, 1)])\n",
            "/usr/local/lib/python3.6/dist-packages/tensorflow/python/framework/dtypes.py:527: FutureWarning: Passing (type, 1) or '1type' as a synonym of type is deprecated; in a future version of numpy, it will be understood as (type, (1,)) / '(1,)type'.\n",
            "  _np_qint32 = np.dtype([(\"qint32\", np.int32, 1)])\n",
            "/usr/local/lib/python3.6/dist-packages/tensorflow/python/framework/dtypes.py:532: FutureWarning: Passing (type, 1) or '1type' as a synonym of type is deprecated; in a future version of numpy, it will be understood as (type, (1,)) / '(1,)type'.\n",
            "  np_resource = np.dtype([(\"resource\", np.ubyte, 1)])\n",
            "/usr/local/lib/python3.6/dist-packages/tensorboard/compat/tensorflow_stub/dtypes.py:541: FutureWarning: Passing (type, 1) or '1type' as a synonym of type is deprecated; in a future version of numpy, it will be understood as (type, (1,)) / '(1,)type'.\n",
            "  _np_qint8 = np.dtype([(\"qint8\", np.int8, 1)])\n",
            "/usr/local/lib/python3.6/dist-packages/tensorboard/compat/tensorflow_stub/dtypes.py:542: FutureWarning: Passing (type, 1) or '1type' as a synonym of type is deprecated; in a future version of numpy, it will be understood as (type, (1,)) / '(1,)type'.\n",
            "  _np_quint8 = np.dtype([(\"quint8\", np.uint8, 1)])\n",
            "/usr/local/lib/python3.6/dist-packages/tensorboard/compat/tensorflow_stub/dtypes.py:543: FutureWarning: Passing (type, 1) or '1type' as a synonym of type is deprecated; in a future version of numpy, it will be understood as (type, (1,)) / '(1,)type'.\n",
            "  _np_qint16 = np.dtype([(\"qint16\", np.int16, 1)])\n",
            "/usr/local/lib/python3.6/dist-packages/tensorboard/compat/tensorflow_stub/dtypes.py:544: FutureWarning: Passing (type, 1) or '1type' as a synonym of type is deprecated; in a future version of numpy, it will be understood as (type, (1,)) / '(1,)type'.\n",
            "  _np_quint16 = np.dtype([(\"quint16\", np.uint16, 1)])\n",
            "/usr/local/lib/python3.6/dist-packages/tensorboard/compat/tensorflow_stub/dtypes.py:545: FutureWarning: Passing (type, 1) or '1type' as a synonym of type is deprecated; in a future version of numpy, it will be understood as (type, (1,)) / '(1,)type'.\n",
            "  _np_qint32 = np.dtype([(\"qint32\", np.int32, 1)])\n",
            "/usr/local/lib/python3.6/dist-packages/tensorboard/compat/tensorflow_stub/dtypes.py:550: FutureWarning: Passing (type, 1) or '1type' as a synonym of type is deprecated; in a future version of numpy, it will be understood as (type, (1,)) / '(1,)type'.\n",
            "  np_resource = np.dtype([(\"resource\", np.ubyte, 1)])\n"
          ],
          "name": "stderr"
        }
      ]
    },
    {
      "cell_type": "code",
      "metadata": {
        "id": "an5z8U54EumO",
        "colab_type": "code",
        "colab": {
          "base_uri": "https://localhost:8080/",
          "height": 153
        },
        "outputId": "bbb03878-4a2f-47ae-fb05-7655d9d2ae1a"
      },
      "source": [
        "fashion_data = tf.keras.datasets.fashion_mnist\n",
        "(train_images, train_labels),(test_images, test_labels) = fashion_data.load_data()"
      ],
      "execution_count": 4,
      "outputs": [
        {
          "output_type": "stream",
          "text": [
            "Downloading data from https://storage.googleapis.com/tensorflow/tf-keras-datasets/train-labels-idx1-ubyte.gz\n",
            "32768/29515 [=================================] - 0s 0us/step\n",
            "Downloading data from https://storage.googleapis.com/tensorflow/tf-keras-datasets/train-images-idx3-ubyte.gz\n",
            "26427392/26421880 [==============================] - 0s 0us/step\n",
            "Downloading data from https://storage.googleapis.com/tensorflow/tf-keras-datasets/t10k-labels-idx1-ubyte.gz\n",
            "8192/5148 [===============================================] - 0s 0us/step\n",
            "Downloading data from https://storage.googleapis.com/tensorflow/tf-keras-datasets/t10k-images-idx3-ubyte.gz\n",
            "4423680/4422102 [==============================] - 0s 0us/step\n"
          ],
          "name": "stdout"
        }
      ]
    },
    {
      "cell_type": "code",
      "metadata": {
        "id": "MDYV2VNCE-EM",
        "colab_type": "code",
        "colab": {}
      },
      "source": [
        "# Rescaling data to single array form\n",
        "train_images = train_images /255.0\n",
        "test_images = test_images / 255.0"
      ],
      "execution_count": 0,
      "outputs": []
    },
    {
      "cell_type": "code",
      "metadata": {
        "id": "kmRBINMfFMcr",
        "colab_type": "code",
        "colab": {
          "base_uri": "https://localhost:8080/",
          "height": 34
        },
        "outputId": "ca6a62a8-6b76-48ec-c0db-8c35e3a87a9e"
      },
      "source": [
        "train_images.shape"
      ],
      "execution_count": 6,
      "outputs": [
        {
          "output_type": "execute_result",
          "data": {
            "text/plain": [
              "(60000, 28, 28)"
            ]
          },
          "metadata": {
            "tags": []
          },
          "execution_count": 6
        }
      ]
    },
    {
      "cell_type": "code",
      "metadata": {
        "id": "EKlxMjbZFO7E",
        "colab_type": "code",
        "colab": {
          "base_uri": "https://localhost:8080/",
          "height": 34
        },
        "outputId": "f0d1084b-e4a1-44fe-fff7-21dada7aa8ee"
      },
      "source": [
        "test_images.shape"
      ],
      "execution_count": 7,
      "outputs": [
        {
          "output_type": "execute_result",
          "data": {
            "text/plain": [
              "(10000, 28, 28)"
            ]
          },
          "metadata": {
            "tags": []
          },
          "execution_count": 7
        }
      ]
    },
    {
      "cell_type": "code",
      "metadata": {
        "id": "6tVH52rcFQwT",
        "colab_type": "code",
        "colab": {}
      },
      "source": [
        "model = keras.Sequential([\n",
        "                          keras.layers.Flatten(input_shape =(28,28)),\n",
        "                          keras.layers.Dense(128, activation='relu'),\n",
        "                          keras.layers.Dense(10, activation='softmax')\n",
        "])"
      ],
      "execution_count": 0,
      "outputs": []
    },
    {
      "cell_type": "code",
      "metadata": {
        "id": "JSiB8NjHGBNI",
        "colab_type": "code",
        "colab": {}
      },
      "source": [
        "model.compile(optimizer='adam', loss='sparse_categorical_crossentropy', metrics=['accuracy'])"
      ],
      "execution_count": 0,
      "outputs": []
    },
    {
      "cell_type": "code",
      "metadata": {
        "id": "Ym0lj7XeGofg",
        "colab_type": "code",
        "colab": {
          "base_uri": "https://localhost:8080/",
          "height": 1000
        },
        "outputId": "2d45d252-8f97-4b06-b3f8-230287a88db8"
      },
      "source": [
        "model.fit(train_images, train_labels, epochs=40)"
      ],
      "execution_count": 15,
      "outputs": [
        {
          "output_type": "stream",
          "text": [
            "Epoch 1/40\n",
            "60000/60000 [==============================] - 5s 86us/sample - loss: 0.1763 - accuracy: 0.9342\n",
            "Epoch 2/40\n",
            "60000/60000 [==============================] - 5s 77us/sample - loss: 0.1695 - accuracy: 0.9363\n",
            "Epoch 3/40\n",
            "60000/60000 [==============================] - 5s 85us/sample - loss: 0.1653 - accuracy: 0.9382\n",
            "Epoch 4/40\n",
            "60000/60000 [==============================] - 4s 74us/sample - loss: 0.1617 - accuracy: 0.9391\n",
            "Epoch 5/40\n",
            "60000/60000 [==============================] - 5s 87us/sample - loss: 0.1565 - accuracy: 0.9419\n",
            "Epoch 6/40\n",
            "60000/60000 [==============================] - 4s 74us/sample - loss: 0.1550 - accuracy: 0.9419\n",
            "Epoch 7/40\n",
            "60000/60000 [==============================] - 4s 75us/sample - loss: 0.1515 - accuracy: 0.9434\n",
            "Epoch 8/40\n",
            "60000/60000 [==============================] - 5s 89us/sample - loss: 0.1472 - accuracy: 0.9454\n",
            "Epoch 9/40\n",
            "60000/60000 [==============================] - 5s 79us/sample - loss: 0.1450 - accuracy: 0.9458\n",
            "Epoch 10/40\n",
            "60000/60000 [==============================] - 5s 83us/sample - loss: 0.1409 - accuracy: 0.9473\n",
            "Epoch 11/40\n",
            "60000/60000 [==============================] - 6s 98us/sample - loss: 0.1392 - accuracy: 0.9474\n",
            "Epoch 12/40\n",
            "60000/60000 [==============================] - 5s 77us/sample - loss: 0.1364 - accuracy: 0.9482\n",
            "Epoch 13/40\n",
            "60000/60000 [==============================] - 5s 77us/sample - loss: 0.1335 - accuracy: 0.9506\n",
            "Epoch 14/40\n",
            "60000/60000 [==============================] - 5s 91us/sample - loss: 0.1302 - accuracy: 0.9514\n",
            "Epoch 15/40\n",
            "60000/60000 [==============================] - 5s 80us/sample - loss: 0.1280 - accuracy: 0.9517\n",
            "Epoch 16/40\n",
            "60000/60000 [==============================] - 5s 77us/sample - loss: 0.1274 - accuracy: 0.9513\n",
            "Epoch 17/40\n",
            "60000/60000 [==============================] - 5s 91us/sample - loss: 0.1228 - accuracy: 0.9540\n",
            "Epoch 18/40\n",
            "60000/60000 [==============================] - 5s 77us/sample - loss: 0.1221 - accuracy: 0.9535\n",
            "Epoch 19/40\n",
            "60000/60000 [==============================] - 5s 90us/sample - loss: 0.1190 - accuracy: 0.9557\n",
            "Epoch 20/40\n",
            "60000/60000 [==============================] - 5s 82us/sample - loss: 0.1180 - accuracy: 0.9554\n",
            "Epoch 21/40\n",
            "60000/60000 [==============================] - 5s 91us/sample - loss: 0.1129 - accuracy: 0.9574\n",
            "Epoch 22/40\n",
            "60000/60000 [==============================] - 5s 77us/sample - loss: 0.1145 - accuracy: 0.9578\n",
            "Epoch 23/40\n",
            "60000/60000 [==============================] - 5s 76us/sample - loss: 0.1101 - accuracy: 0.9582\n",
            "Epoch 24/40\n",
            "60000/60000 [==============================] - 5s 90us/sample - loss: 0.1103 - accuracy: 0.9591\n",
            "Epoch 25/40\n",
            "60000/60000 [==============================] - 5s 81us/sample - loss: 0.1058 - accuracy: 0.9608\n",
            "Epoch 26/40\n",
            "60000/60000 [==============================] - 5s 77us/sample - loss: 0.1068 - accuracy: 0.9600\n",
            "Epoch 27/40\n",
            "60000/60000 [==============================] - 5s 87us/sample - loss: 0.1020 - accuracy: 0.9619\n",
            "Epoch 28/40\n",
            "60000/60000 [==============================] - 5s 76us/sample - loss: 0.1012 - accuracy: 0.9615\n",
            "Epoch 29/40\n",
            "60000/60000 [==============================] - 5s 90us/sample - loss: 0.1006 - accuracy: 0.9624\n",
            "Epoch 30/40\n",
            "60000/60000 [==============================] - 5s 78us/sample - loss: 0.0992 - accuracy: 0.9627\n",
            "Epoch 31/40\n",
            "60000/60000 [==============================] - 6s 92us/sample - loss: 0.0972 - accuracy: 0.9633\n",
            "Epoch 32/40\n",
            "60000/60000 [==============================] - 5s 82us/sample - loss: 0.0957 - accuracy: 0.9640\n",
            "Epoch 33/40\n",
            "60000/60000 [==============================] - 5s 76us/sample - loss: 0.0941 - accuracy: 0.9646\n",
            "Epoch 34/40\n",
            "60000/60000 [==============================] - 6s 94us/sample - loss: 0.0908 - accuracy: 0.9653\n",
            "Epoch 35/40\n",
            "60000/60000 [==============================] - 5s 81us/sample - loss: 0.0925 - accuracy: 0.9659\n",
            "Epoch 36/40\n",
            "60000/60000 [==============================] - 6s 101us/sample - loss: 0.0904 - accuracy: 0.9664\n",
            "Epoch 37/40\n",
            "60000/60000 [==============================] - 5s 83us/sample - loss: 0.0880 - accuracy: 0.9667\n",
            "Epoch 38/40\n",
            "60000/60000 [==============================] - 6s 94us/sample - loss: 0.0875 - accuracy: 0.9672\n",
            "Epoch 39/40\n",
            "60000/60000 [==============================] - 5s 84us/sample - loss: 0.0867 - accuracy: 0.9680\n",
            "Epoch 40/40\n",
            "60000/60000 [==============================] - 5s 80us/sample - loss: 0.0862 - accuracy: 0.9677\n"
          ],
          "name": "stdout"
        },
        {
          "output_type": "execute_result",
          "data": {
            "text/plain": [
              "<tensorflow.python.keras.callbacks.History at 0x7fa28b4634e0>"
            ]
          },
          "metadata": {
            "tags": []
          },
          "execution_count": 15
        }
      ]
    },
    {
      "cell_type": "code",
      "metadata": {
        "id": "nkrytPYnLYin",
        "colab_type": "code",
        "colab": {}
      },
      "source": [
        "#Evaluation\n",
        "\n",
        "test_loss, test_acc = model.evaluate(test_images, test_labels, verbose=0)"
      ],
      "execution_count": 0,
      "outputs": []
    },
    {
      "cell_type": "code",
      "metadata": {
        "id": "1OSXm77_LsEu",
        "colab_type": "code",
        "colab": {
          "base_uri": "https://localhost:8080/",
          "height": 34
        },
        "outputId": "2a94084c-5993-4426-ee0f-123a68208c7b"
      },
      "source": [
        "print(test_acc)"
      ],
      "execution_count": 17,
      "outputs": [
        {
          "output_type": "stream",
          "text": [
            "0.8927\n"
          ],
          "name": "stdout"
        }
      ]
    },
    {
      "cell_type": "code",
      "metadata": {
        "id": "38vOx_wCLvFC",
        "colab_type": "code",
        "colab": {}
      },
      "source": [
        "# Here the training accuracy is 96 % and test accuracy is 89 % clearly indicates this is a Overfitting problem ."
      ],
      "execution_count": 0,
      "outputs": []
    },
    {
      "cell_type": "code",
      "metadata": {
        "id": "nGDBUrxaMD4f",
        "colab_type": "code",
        "colab": {}
      },
      "source": [
        "predictions = model.predict(test_images)"
      ],
      "execution_count": 0,
      "outputs": []
    },
    {
      "cell_type": "code",
      "metadata": {
        "id": "Lkyae420MQk5",
        "colab_type": "code",
        "colab": {
          "base_uri": "https://localhost:8080/",
          "height": 68
        },
        "outputId": "a65a8957-b247-4732-9178-8c07789c8563"
      },
      "source": [
        "predictions[0]"
      ],
      "execution_count": 20,
      "outputs": [
        {
          "output_type": "execute_result",
          "data": {
            "text/plain": [
              "array([9.0239481e-16, 3.9041523e-24, 9.7960938e-20, 8.8224782e-31,\n",
              "       5.5014740e-17, 2.2270458e-12, 1.1243413e-18, 3.9712067e-08,\n",
              "       1.1881553e-14, 1.0000000e+00], dtype=float32)"
            ]
          },
          "metadata": {
            "tags": []
          },
          "execution_count": 20
        }
      ]
    },
    {
      "cell_type": "code",
      "metadata": {
        "id": "_Q5OKqIQMSi2",
        "colab_type": "code",
        "colab": {
          "base_uri": "https://localhost:8080/",
          "height": 34
        },
        "outputId": "72e2073b-c462-4819-d6bd-9383637455cf"
      },
      "source": [
        "# This indicates the class to which it belongs\n",
        "np.argmax(predictions[0])"
      ],
      "execution_count": 21,
      "outputs": [
        {
          "output_type": "execute_result",
          "data": {
            "text/plain": [
              "9"
            ]
          },
          "metadata": {
            "tags": []
          },
          "execution_count": 21
        }
      ]
    },
    {
      "cell_type": "code",
      "metadata": {
        "id": "Mea3ZNb_MW6W",
        "colab_type": "code",
        "colab": {
          "base_uri": "https://localhost:8080/",
          "height": 34
        },
        "outputId": "8bb96dae-ad26-461f-dce9-9328d541d089"
      },
      "source": [
        "test_labels[0]"
      ],
      "execution_count": 22,
      "outputs": [
        {
          "output_type": "execute_result",
          "data": {
            "text/plain": [
              "9"
            ]
          },
          "metadata": {
            "tags": []
          },
          "execution_count": 22
        }
      ]
    },
    {
      "cell_type": "code",
      "metadata": {
        "id": "TCXgdugFMlFD",
        "colab_type": "code",
        "colab": {
          "base_uri": "https://localhost:8080/",
          "height": 54
        },
        "outputId": "6b500de0-3eae-49fe-c86a-9f619b2e3699"
      },
      "source": [
        "\"\"\" 9 means its an Ankle Boot\n",
        "Label\tClass\n",
        "0\t    T-shirt/top\n",
        "1\t    Trouser\n",
        "2\t    Pullover\n",
        "3\t    Dress\n",
        "4\t    Coat\n",
        "5\t    Sandal\n",
        "6\t    Shirt\n",
        "7\t    Sneaker\n",
        "8\t    Bag\n",
        "9\t    Ankle boot \"\"\""
      ],
      "execution_count": 23,
      "outputs": [
        {
          "output_type": "execute_result",
          "data": {
            "text/plain": [
              "' 9 means its an Ankle Boot\\nLabel\\tClass\\n0\\t    T-shirt/top\\n1\\t    Trouser\\n2\\t    Pullover\\n3\\t    Dress\\n4\\t    Coat\\n5\\t    Sandal\\n6\\t    Shirt\\n7\\t    Sneaker\\n8\\t    Bag\\n9\\t    Ankle boot '"
            ]
          },
          "metadata": {
            "tags": []
          },
          "execution_count": 23
        }
      ]
    },
    {
      "cell_type": "code",
      "metadata": {
        "id": "_YBH6ZLMM8Kv",
        "colab_type": "code",
        "colab": {}
      },
      "source": [
        ""
      ],
      "execution_count": 0,
      "outputs": []
    }
  ]
}